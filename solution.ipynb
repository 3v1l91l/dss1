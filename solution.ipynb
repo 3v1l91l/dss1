{
 "cells": [
  {
   "cell_type": "code",
   "execution_count": 223,
   "metadata": {
    "collapsed": true
   },
   "outputs": [],
   "source": [
    "import numpy as np\n",
    "import pandas as pd\n",
    "import os\n",
    "import matplotlib.pyplot as plt\n",
    "%matplotlib inline"
   ]
  },
  {
   "cell_type": "markdown",
   "metadata": {
    "collapsed": true
   },
   "source": [
    "### Load data"
   ]
  },
  {
   "cell_type": "code",
   "execution_count": 238,
   "metadata": {},
   "outputs": [
    {
     "name": "stderr",
     "output_type": "stream",
     "text": [
      "C:\\Users\\myz\\AppData\\Local\\Continuum\\anaconda3\\envs\\idp3\\lib\\site-packages\\IPython\\core\\interactiveshell.py:2698: DtypeWarning: Columns (3) have mixed types. Specify dtype option on import or set low_memory=False.\n",
      "  interactivity=interactivity, compiler=compiler, result=result)\n",
      "C:\\Users\\myz\\AppData\\Local\\Continuum\\anaconda3\\envs\\idp3\\lib\\site-packages\\numpy\\lib\\arraysetops.py:463: FutureWarning: elementwise comparison failed; returning scalar instead, but in the future will perform elementwise comparison\n",
      "  mask |= (ar1 == a)\n"
     ]
    }
   ],
   "source": [
    "data_path = '.'\n",
    "costs_df = pd.read_csv(os.path.join(data_path, 'Costs.csv'), parse_dates=['date_created'], dayfirst=False)\n",
    "relations_df = pd.read_csv(os.path.join(data_path, 'Relations.csv'), usecols=['name', 'chanel', 'id_partner'])\n",
    "users_df = pd.read_csv(os.path.join(data_path, 'Users.csv'), index_col=0, \n",
    "                       usecols=['id', 'Reg_date', 'name', 'id_partner'], parse_dates=['Reg_date'], dayfirst=False)\n",
    "visits_df = pd.read_csv(os.path.join(data_path, 'Visits.csv'), parse_dates=['Visit_date'], dayfirst=False)\n",
    "orders_df = pd.read_csv(os.path.join(data_path, 'Orders.csv'), parse_dates=['Order Date'], dayfirst=False)"
   ]
  },
  {
   "cell_type": "markdown",
   "metadata": {
    "collapsed": true
   },
   "source": [
    "### Explore data"
   ]
  },
  {
   "cell_type": "code",
   "execution_count": 246,
   "metadata": {
    "collapsed": true
   },
   "outputs": [],
   "source": [
    "def explore_df(df):\n",
    "    print(df.head())\n",
    "    print(df.dtypes)\n",
    "    null_cols = df.columns[df.isnull().any()].values\n",
    "    if(len(null_cols)):\n",
    "        print('Columns with nulls: {}'.format(null_cols))"
   ]
  },
  {
   "cell_type": "markdown",
   "metadata": {},
   "source": [
    "#### Users"
   ]
  },
  {
   "cell_type": "code",
   "execution_count": 252,
   "metadata": {},
   "outputs": [
    {
     "name": "stdout",
     "output_type": "stream",
     "text": [
      "          Reg_date id_partner                         name  chanel\n",
      "id                                                                \n",
      "6745955 2017-10-04     rt_DBM        ${INSERTION_ORDER_ID}  RT DBM\n",
      "5159878 2017-07-01        DBM  %24%7BINSERTION_ORDER_ID%7D     DBM\n",
      "5159881 2017-07-01        DBM  %24%7BINSERTION_ORDER_ID%7D     DBM\n",
      "5159940 2017-07-01        DBM  %24%7BINSERTION_ORDER_ID%7D     DBM\n",
      "5295496 2017-07-08        DBM  %24%7BINSERTION_ORDER_ID%7D     DBM\n",
      "Reg_date      datetime64[ns]\n",
      "id_partner            object\n",
      "name                  object\n",
      "chanel                object\n",
      "dtype: object\n"
     ]
    }
   ],
   "source": [
    "explore_df(users_df)"
   ]
  },
  {
   "cell_type": "markdown",
   "metadata": {},
   "source": [
    "#### Orders"
   ]
  },
  {
   "cell_type": "code",
   "execution_count": 251,
   "metadata": {},
   "outputs": [
    {
     "name": "stdout",
     "output_type": "stream",
     "text": [
      "   id_user          Order Date   Amount  Order ID\n",
      "0  4618612 2017-08-17 02:08:40   2.6312  23732390\n",
      "1  4618612 2017-08-17 02:29:26  17.5912  23732304\n",
      "2  4618645 2017-06-01 04:39:41   8.7912  12441805\n",
      "3  4618815 2017-06-01 02:11:01   2.6312  12439685\n",
      "4  4618982 2017-10-04 03:43:24   8.7912  25568622\n",
      "id_user                int64\n",
      "Order Date    datetime64[ns]\n",
      "Amount               float64\n",
      "Order ID               int64\n",
      "dtype: object\n"
     ]
    }
   ],
   "source": [
    "explore_df(orders_df)"
   ]
  },
  {
   "cell_type": "markdown",
   "metadata": {},
   "source": [
    "#### Relations"
   ]
  },
  {
   "cell_type": "code",
   "execution_count": 250,
   "metadata": {},
   "outputs": [
    {
     "name": "stdout",
     "output_type": "stream",
     "text": [
      "  chanel id_partner name\n",
      "0      7          7   19\n",
      "1      7          7   81\n",
      "2      7          7  108\n",
      "3      7          7  112\n",
      "4      7          7  131\n",
      "chanel        object\n",
      "id_partner    object\n",
      "name          object\n",
      "dtype: object\n"
     ]
    }
   ],
   "source": [
    "explore_df(relations_df)"
   ]
  },
  {
   "cell_type": "markdown",
   "metadata": {},
   "source": [
    "#### Visits"
   ]
  },
  {
   "cell_type": "code",
   "execution_count": 249,
   "metadata": {},
   "outputs": [
    {
     "name": "stdout",
     "output_type": "stream",
     "text": [
      "   id_user          Visit_date\n",
      "0  6362904 2017-09-15 10:55:42\n",
      "1  6362904 2017-09-18 07:35:11\n",
      "2  7145363 2017-11-05 19:37:53\n",
      "3  7270453 2017-11-15 17:06:20\n",
      "4  7270453 2017-11-15 17:12:46\n",
      "id_user                int64\n",
      "Visit_date    datetime64[ns]\n",
      "dtype: object\n"
     ]
    }
   ],
   "source": [
    "explore_df(visits_df)"
   ]
  },
  {
   "cell_type": "markdown",
   "metadata": {},
   "source": [
    "#### Costs"
   ]
  },
  {
   "cell_type": "code",
   "execution_count": 248,
   "metadata": {},
   "outputs": [
    {
     "name": "stdout",
     "output_type": "stream",
     "text": [
      "       Costs id_partner campaign date_created\n",
      "0  15.701622        NaN  4147836   2018-01-05\n",
      "1  17.163542        NaN  4157838   2018-01-05\n",
      "2  17.408304        NaN  4164809   2018-01-05\n",
      "3   0.000000          0  2008634   2017-09-01\n",
      "4   0.000000          0  2008634   2017-09-02\n",
      "Costs                  float64\n",
      "id_partner              object\n",
      "campaign                object\n",
      "date_created    datetime64[ns]\n",
      "dtype: object\n",
      "Columns with nulls: ['id_partner' 'campaign']\n"
     ]
    }
   ],
   "source": [
    "explore_df(costs_df)"
   ]
  },
  {
   "cell_type": "markdown",
   "metadata": {},
   "source": [
    "## Задание №1:\t\n",
    "## С помощью инструментов R или Python посчитать следующие метрики:"
   ]
  },
  {
   "cell_type": "markdown",
   "metadata": {},
   "source": [
    "### ROI для 0-го, 6-го 14-го и 30-го дней жизни пользователя на сайте в разрезе маркетинговых каналов (chanel из relations)."
   ]
  },
  {
   "cell_type": "markdown",
   "metadata": {},
   "source": [
    "#### Calculate marketing costs per day"
   ]
  },
  {
   "cell_type": "code",
   "execution_count": 239,
   "metadata": {},
   "outputs": [
    {
     "data": {
      "text/html": [
       "<div>\n",
       "<style>\n",
       "    .dataframe thead tr:only-child th {\n",
       "        text-align: right;\n",
       "    }\n",
       "\n",
       "    .dataframe thead th {\n",
       "        text-align: left;\n",
       "    }\n",
       "\n",
       "    .dataframe tbody tr th {\n",
       "        vertical-align: top;\n",
       "    }\n",
       "</style>\n",
       "<table border=\"1\" class=\"dataframe\">\n",
       "  <thead>\n",
       "    <tr style=\"text-align: right;\">\n",
       "      <th></th>\n",
       "      <th>Reg_date</th>\n",
       "      <th>id_partner</th>\n",
       "      <th>name</th>\n",
       "      <th>chanel</th>\n",
       "    </tr>\n",
       "    <tr>\n",
       "      <th>id</th>\n",
       "      <th></th>\n",
       "      <th></th>\n",
       "      <th></th>\n",
       "      <th></th>\n",
       "    </tr>\n",
       "  </thead>\n",
       "  <tbody>\n",
       "    <tr>\n",
       "      <th>6745955</th>\n",
       "      <td>2017-10-04</td>\n",
       "      <td>rt_DBM</td>\n",
       "      <td>${INSERTION_ORDER_ID}</td>\n",
       "      <td>RT DBM</td>\n",
       "    </tr>\n",
       "    <tr>\n",
       "      <th>5159878</th>\n",
       "      <td>2017-07-01</td>\n",
       "      <td>DBM</td>\n",
       "      <td>%24%7BINSERTION_ORDER_ID%7D</td>\n",
       "      <td>DBM</td>\n",
       "    </tr>\n",
       "    <tr>\n",
       "      <th>5159881</th>\n",
       "      <td>2017-07-01</td>\n",
       "      <td>DBM</td>\n",
       "      <td>%24%7BINSERTION_ORDER_ID%7D</td>\n",
       "      <td>DBM</td>\n",
       "    </tr>\n",
       "    <tr>\n",
       "      <th>5159940</th>\n",
       "      <td>2017-07-01</td>\n",
       "      <td>DBM</td>\n",
       "      <td>%24%7BINSERTION_ORDER_ID%7D</td>\n",
       "      <td>DBM</td>\n",
       "    </tr>\n",
       "    <tr>\n",
       "      <th>5295496</th>\n",
       "      <td>2017-07-08</td>\n",
       "      <td>DBM</td>\n",
       "      <td>%24%7BINSERTION_ORDER_ID%7D</td>\n",
       "      <td>DBM</td>\n",
       "    </tr>\n",
       "  </tbody>\n",
       "</table>\n",
       "</div>"
      ],
      "text/plain": [
       "          Reg_date id_partner                         name  chanel\n",
       "id                                                                \n",
       "6745955 2017-10-04     rt_DBM        ${INSERTION_ORDER_ID}  RT DBM\n",
       "5159878 2017-07-01        DBM  %24%7BINSERTION_ORDER_ID%7D     DBM\n",
       "5159881 2017-07-01        DBM  %24%7BINSERTION_ORDER_ID%7D     DBM\n",
       "5159940 2017-07-01        DBM  %24%7BINSERTION_ORDER_ID%7D     DBM\n",
       "5295496 2017-07-08        DBM  %24%7BINSERTION_ORDER_ID%7D     DBM"
      ]
     },
     "execution_count": 239,
     "metadata": {},
     "output_type": "execute_result"
    }
   ],
   "source": [
    "users_df = users_df.reset_index().merge(relations_df, on=['name', 'id_partner']).set_index('id')\n",
    "users_df.head()"
   ]
  },
  {
   "cell_type": "code",
   "execution_count": 228,
   "metadata": {
    "collapsed": true
   },
   "outputs": [],
   "source": [
    "costs_per_date = costs_df[['date_created','Costs']].groupby('date_created').agg(np.sum)['Costs']"
   ]
  },
  {
   "cell_type": "code",
   "execution_count": 229,
   "metadata": {
    "collapsed": true
   },
   "outputs": [],
   "source": [
    "num_users_per_date = users_df.groupby('Reg_date')['id_partner'].count()\n",
    "cost_per_user_per_date = costs_per_date[num_users_per_date.index] / num_users_per_date\n",
    "users_df['cost_per_reg'] = cost_per_user_per_date[users_df['Reg_date'].values].values"
   ]
  },
  {
   "cell_type": "code",
   "execution_count": 230,
   "metadata": {},
   "outputs": [
    {
     "data": {
      "text/html": [
       "<div>\n",
       "<style>\n",
       "    .dataframe thead tr:only-child th {\n",
       "        text-align: right;\n",
       "    }\n",
       "\n",
       "    .dataframe thead th {\n",
       "        text-align: left;\n",
       "    }\n",
       "\n",
       "    .dataframe tbody tr th {\n",
       "        vertical-align: top;\n",
       "    }\n",
       "</style>\n",
       "<table border=\"1\" class=\"dataframe\">\n",
       "  <thead>\n",
       "    <tr style=\"text-align: right;\">\n",
       "      <th></th>\n",
       "      <th>id_user</th>\n",
       "      <th>Order Date</th>\n",
       "      <th>Amount</th>\n",
       "      <th>Order ID</th>\n",
       "      <th>Reg_date</th>\n",
       "      <th>id_partner</th>\n",
       "      <th>name</th>\n",
       "      <th>chanel</th>\n",
       "      <th>cost_per_reg</th>\n",
       "    </tr>\n",
       "  </thead>\n",
       "  <tbody>\n",
       "    <tr>\n",
       "      <th>0</th>\n",
       "      <td>4618612</td>\n",
       "      <td>2017-08-17 02:08:40</td>\n",
       "      <td>2.6312</td>\n",
       "      <td>23732390</td>\n",
       "      <td>2017-06-01</td>\n",
       "      <td>DBM_mob</td>\n",
       "      <td>3260707</td>\n",
       "      <td>DBM_mob</td>\n",
       "      <td>6.035521</td>\n",
       "    </tr>\n",
       "    <tr>\n",
       "      <th>1</th>\n",
       "      <td>4618612</td>\n",
       "      <td>2017-08-17 02:29:26</td>\n",
       "      <td>17.5912</td>\n",
       "      <td>23732304</td>\n",
       "      <td>2017-06-01</td>\n",
       "      <td>DBM_mob</td>\n",
       "      <td>3260707</td>\n",
       "      <td>DBM_mob</td>\n",
       "      <td>6.035521</td>\n",
       "    </tr>\n",
       "    <tr>\n",
       "      <th>2</th>\n",
       "      <td>4618645</td>\n",
       "      <td>2017-06-01 04:39:41</td>\n",
       "      <td>8.7912</td>\n",
       "      <td>12441805</td>\n",
       "      <td>2017-06-01</td>\n",
       "      <td>vh_s</td>\n",
       "      <td>Adw_VH_Tier2_S_Key_Brides_Old</td>\n",
       "      <td>VH Search Desktop tier2</td>\n",
       "      <td>6.035521</td>\n",
       "    </tr>\n",
       "    <tr>\n",
       "      <th>3</th>\n",
       "      <td>4618815</td>\n",
       "      <td>2017-06-01 02:11:01</td>\n",
       "      <td>2.6312</td>\n",
       "      <td>12439685</td>\n",
       "      <td>2017-06-01</td>\n",
       "      <td>1020</td>\n",
       "      <td>l6507</td>\n",
       "      <td>LosPollos</td>\n",
       "      <td>6.035521</td>\n",
       "    </tr>\n",
       "    <tr>\n",
       "      <th>4</th>\n",
       "      <td>4618982</td>\n",
       "      <td>2017-10-04 03:43:24</td>\n",
       "      <td>8.7912</td>\n",
       "      <td>25568622</td>\n",
       "      <td>2017-06-01</td>\n",
       "      <td>vh_uu</td>\n",
       "      <td>Adw_VH_GSP_Similar</td>\n",
       "      <td>VH Desktop GSP USA</td>\n",
       "      <td>6.035521</td>\n",
       "    </tr>\n",
       "  </tbody>\n",
       "</table>\n",
       "</div>"
      ],
      "text/plain": [
       "   id_user          Order Date   Amount  Order ID   Reg_date id_partner  \\\n",
       "0  4618612 2017-08-17 02:08:40   2.6312  23732390 2017-06-01    DBM_mob   \n",
       "1  4618612 2017-08-17 02:29:26  17.5912  23732304 2017-06-01    DBM_mob   \n",
       "2  4618645 2017-06-01 04:39:41   8.7912  12441805 2017-06-01       vh_s   \n",
       "3  4618815 2017-06-01 02:11:01   2.6312  12439685 2017-06-01       1020   \n",
       "4  4618982 2017-10-04 03:43:24   8.7912  25568622 2017-06-01      vh_uu   \n",
       "\n",
       "                            name                   chanel  cost_per_reg  \n",
       "0                        3260707                  DBM_mob      6.035521  \n",
       "1                        3260707                  DBM_mob      6.035521  \n",
       "2  Adw_VH_Tier2_S_Key_Brides_Old  VH Search Desktop tier2      6.035521  \n",
       "3                          l6507                LosPollos      6.035521  \n",
       "4             Adw_VH_GSP_Similar       VH Desktop GSP USA      6.035521  "
      ]
     },
     "execution_count": 230,
     "metadata": {},
     "output_type": "execute_result"
    }
   ],
   "source": [
    "orders_user_reg_df = orders_df.merge(users_df, how='left', left_on='id_user', right_index=True)\n",
    "orders_user_reg_df.head()"
   ]
  },
  {
   "cell_type": "code",
   "execution_count": 231,
   "metadata": {
    "collapsed": true
   },
   "outputs": [],
   "source": [
    "def roi_on_day(day, users_df, orders_user_reg_df):\n",
    "    users_ids = users_df[users_df['Reg_date']<np.max(users_df['Reg_date']) + np.timedelta64(-day - 1, 'D')].index\n",
    "    orders_for_roi_mask = orders_user_reg_df['Order Date'] < orders_user_reg_df['Reg_date'] + np.timedelta64(day + 1, 'D')\n",
    "    orders_for_roi_mask = orders_for_roi_mask & orders_user_reg_df['id_user'].isin(users_ids)\n",
    "    cost_order_amount_per_user_df = orders_user_reg_df[orders_for_roi_mask].groupby('id_user').agg(\n",
    "        {'Amount': 'sum'})\n",
    "\n",
    "    order_amount_day_label = 'order_amount_day_' + str(day)\n",
    "    users_df[order_amount_day_label] = cost_order_amount_per_user_df['Amount']\n",
    "    users_df[order_amount_day_label].fillna(0, inplace=True)\n",
    "    \n",
    "    cost_amout_per_channel_df = users_df.groupby('chanel').agg({'cost_per_reg': 'sum', order_amount_day_label: 'sum'})\n",
    "    cost_amout_per_channel_df['roi'] = 100 * (cost_amout_per_channel_df[order_amount_day_label] \n",
    "        - cost_amout_per_channel_df['cost_per_reg'])/cost_amout_per_channel_df['cost_per_reg']\n",
    "    return cost_amout_per_channel_df"
   ]
  },
  {
   "cell_type": "code",
   "execution_count": null,
   "metadata": {
    "collapsed": true
   },
   "outputs": [],
   "source": []
  },
  {
   "cell_type": "code",
   "execution_count": 232,
   "metadata": {},
   "outputs": [
    {
     "data": {
      "text/html": [
       "<div>\n",
       "<style>\n",
       "    .dataframe thead tr:only-child th {\n",
       "        text-align: right;\n",
       "    }\n",
       "\n",
       "    .dataframe thead th {\n",
       "        text-align: left;\n",
       "    }\n",
       "\n",
       "    .dataframe tbody tr th {\n",
       "        vertical-align: top;\n",
       "    }\n",
       "</style>\n",
       "<table border=\"1\" class=\"dataframe\">\n",
       "  <thead>\n",
       "    <tr style=\"text-align: right;\">\n",
       "      <th></th>\n",
       "      <th>cost_per_reg</th>\n",
       "      <th>order_amount_day_0</th>\n",
       "      <th>roi</th>\n",
       "      <th>roi_14</th>\n",
       "      <th>roi_30</th>\n",
       "    </tr>\n",
       "  </thead>\n",
       "  <tbody>\n",
       "    <tr>\n",
       "      <th>count</th>\n",
       "      <td>364.000000</td>\n",
       "      <td>364.000000</td>\n",
       "      <td>364.000000</td>\n",
       "      <td>364.000000</td>\n",
       "      <td>364.000000</td>\n",
       "    </tr>\n",
       "    <tr>\n",
       "      <th>mean</th>\n",
       "      <td>42169.657982</td>\n",
       "      <td>474.849402</td>\n",
       "      <td>-98.610016</td>\n",
       "      <td>-86.495664</td>\n",
       "      <td>-77.234316</td>\n",
       "    </tr>\n",
       "    <tr>\n",
       "      <th>std</th>\n",
       "      <td>102948.995889</td>\n",
       "      <td>1135.506884</td>\n",
       "      <td>3.287037</td>\n",
       "      <td>25.548930</td>\n",
       "      <td>42.840748</td>\n",
       "    </tr>\n",
       "    <tr>\n",
       "      <th>min</th>\n",
       "      <td>4.829477</td>\n",
       "      <td>0.000000</td>\n",
       "      <td>-100.000000</td>\n",
       "      <td>-100.000000</td>\n",
       "      <td>-100.000000</td>\n",
       "    </tr>\n",
       "    <tr>\n",
       "      <th>25%</th>\n",
       "      <td>830.019881</td>\n",
       "      <td>0.000000</td>\n",
       "      <td>-100.000000</td>\n",
       "      <td>-100.000000</td>\n",
       "      <td>-100.000000</td>\n",
       "    </tr>\n",
       "    <tr>\n",
       "      <th>50%</th>\n",
       "      <td>7650.215110</td>\n",
       "      <td>41.333600</td>\n",
       "      <td>-99.664024</td>\n",
       "      <td>-96.356723</td>\n",
       "      <td>-93.926845</td>\n",
       "    </tr>\n",
       "    <tr>\n",
       "      <th>75%</th>\n",
       "      <td>34746.053860</td>\n",
       "      <td>388.533200</td>\n",
       "      <td>-98.743669</td>\n",
       "      <td>-85.183704</td>\n",
       "      <td>-74.337571</td>\n",
       "    </tr>\n",
       "    <tr>\n",
       "      <th>max</th>\n",
       "      <td>828510.346466</td>\n",
       "      <td>10787.744000</td>\n",
       "      <td>-69.269694</td>\n",
       "      <td>110.141282</td>\n",
       "      <td>228.303274</td>\n",
       "    </tr>\n",
       "  </tbody>\n",
       "</table>\n",
       "</div>"
      ],
      "text/plain": [
       "        cost_per_reg  order_amount_day_0         roi      roi_14      roi_30\n",
       "count     364.000000          364.000000  364.000000  364.000000  364.000000\n",
       "mean    42169.657982          474.849402  -98.610016  -86.495664  -77.234316\n",
       "std    102948.995889         1135.506884    3.287037   25.548930   42.840748\n",
       "min         4.829477            0.000000 -100.000000 -100.000000 -100.000000\n",
       "25%       830.019881            0.000000 -100.000000 -100.000000 -100.000000\n",
       "50%      7650.215110           41.333600  -99.664024  -96.356723  -93.926845\n",
       "75%     34746.053860          388.533200  -98.743669  -85.183704  -74.337571\n",
       "max    828510.346466        10787.744000  -69.269694  110.141282  228.303274"
      ]
     },
     "execution_count": 232,
     "metadata": {},
     "output_type": "execute_result"
    }
   ],
   "source": [
    "roi = roi_on_day(0, users_df, orders_user_reg_df)\n",
    "roi['roi_14'] = roi_on_day(14, users_df, orders_user_reg_df)['roi']\n",
    "# cost_amout_per_channel_df['roi'].hist()\n",
    "roi['roi_30'] = cost_amout_per_channel_df = roi_on_day(30, users_df, orders_user_reg_df)['roi']\n",
    "roi.describe()\n",
    "# np.max(cost_amout_per_channel_df['roi'])\n",
    "# print('ROI 14 day: {}'.format(order_amount_days_after_reg(14))   \n",
    "# print('ROI 30 day: {}'.format(order_amount_days_after_reg(30))            "
   ]
  },
  {
   "cell_type": "code",
   "execution_count": 233,
   "metadata": {},
   "outputs": [
    {
     "name": "stdout",
     "output_type": "stream",
     "text": [
      "chanel\n",
      "Zero                             -69.269694\n",
      "VH Bing Desktop top3 Ethnic      -73.794870\n",
      "RT Search Desktop FR Ethnic      -77.265383\n",
      "VH Search Desktop top2 Ethnic    -83.999327\n",
      "VH Search Desktop top3 Ethnic    -84.194464\n",
      "VH Bing Desktop top2 Ethnic      -84.680172\n",
      "VH Search Desktop tier1 Ethnic   -88.764662\n",
      "VH Search Desktop top6 Ethnic    -89.750513\n",
      "PPS-Offer                        -89.873238\n",
      "RT Search Desktop Brand ads      -90.177787\n",
      "Name: roi, dtype: float64\n",
      "chanel\n",
      "Zero                              110.141282\n",
      "VH Bing Desktop top3 Ethnic      -100.000000\n",
      "RT Search Desktop FR Ethnic        17.376328\n",
      "VH Search Desktop top2 Ethnic      60.965295\n",
      "VH Search Desktop top3 Ethnic      19.685374\n",
      "VH Bing Desktop top2 Ethnic       -78.016913\n",
      "VH Search Desktop tier1 Ethnic     23.058240\n",
      "VH Search Desktop top6 Ethnic      10.874666\n",
      "PPS-Offer                         -40.769250\n",
      "RT Search Desktop Brand ads       -46.961873\n",
      "Name: roi_14, dtype: float64\n",
      "chanel\n",
      "Zero                              110.141282\n",
      "VH Bing Desktop top3 Ethnic      -100.000000\n",
      "RT Search Desktop FR Ethnic        90.966103\n",
      "VH Search Desktop top2 Ethnic     132.594325\n",
      "VH Search Desktop top3 Ethnic     126.412546\n",
      "VH Bing Desktop top2 Ethnic       -79.013569\n",
      "VH Search Desktop tier1 Ethnic    132.377297\n",
      "VH Search Desktop top6 Ethnic      78.890042\n",
      "PPS-Offer                         -23.658911\n",
      "RT Search Desktop Brand ads       -30.211891\n",
      "Name: roi_30, dtype: float64\n"
     ]
    }
   ],
   "source": [
    "print(roi.nlargest(10, 'roi')['roi'])\n",
    "print(roi.nlargest(10, 'roi')['roi_14'])\n",
    "print(roi.nlargest(10, 'roi')['roi_30'])"
   ]
  },
  {
   "cell_type": "code",
   "execution_count": 235,
   "metadata": {
    "collapsed": true
   },
   "outputs": [],
   "source": [
    "def cost_user_paid_on_day(day, users_df, orders_user_reg_df):\n",
    "    users_ids = users_df[users_df['Reg_date']<np.max(users_df['Reg_date']) + np.timedelta64(-day - 1, 'D')].index\n",
    "    orders_for_roi_mask = orders_user_reg_df['Order Date'] < orders_user_reg_df['Reg_date'] + np.timedelta64(day + 1, 'D')\n",
    "    orders_for_roi_mask = orders_for_roi_mask & orders_user_reg_df['id_user'].isin(users_ids)\n",
    "    cost_order_amount_per_user_df = orders_user_reg_df[orders_for_roi_mask].groupby('id_user').agg(\n",
    "        {'cost_per_reg': 'first'})\n",
    "\n",
    "#     order_amount_day_label = 'order_amount_day_' + str(day)\n",
    "#     users_df[order_amount_day_label] = cost_order_amount_per_user_df['Amount']\n",
    "#     users_df[order_amount_day_label].fillna(0, inplace=True)\n",
    "    \n",
    "    cost_amout_per_partner_df = users_df.groupby('id_partner').agg({'cost_per_reg': 'mean'})\n",
    "    print(cost_amout_per_partner_df.head())\n",
    "#     cost_amout_per_channel_df['roi'] = 100 * (cost_amout_per_channel_df[order_amount_day_label] \n",
    "#         - cost_amout_per_channel_df['cost_per_reg'])/cost_amout_per_channel_df['cost_per_reg']\n",
    "#     return cost_amout_per_channel_df"
   ]
  },
  {
   "cell_type": "code",
   "execution_count": 236,
   "metadata": {},
   "outputs": [
    {
     "name": "stdout",
     "output_type": "stream",
     "text": [
      "                cost_per_reg\n",
      "id_partner                  \n",
      "0                   5.689981\n",
      "10                 10.842643\n",
      "1020                5.715563\n",
      "1020_mobile         5.710902\n",
      "1020_not_valid      5.908413\n"
     ]
    }
   ],
   "source": [
    "cost_on_day = cost_user_paid_on_day(0, users_df, orders_user_reg_df)"
   ]
  },
  {
   "cell_type": "code",
   "execution_count": 240,
   "metadata": {
    "collapsed": true
   },
   "outputs": [],
   "source": [
    "def pct_users_return_first_week(day, visits_users_df):\n",
    "    visits_mask = visits_users_df['Visit_date'] < visits_users_df['Reg_date'] + np.timedelta64(day + 1, 'D')\n",
    "    cost_order_amount_per_user_df = visits_users_df[visits_mask].groupby('id_user').agg(\n",
    "        {'Visit_date': lambda x: print(x)})\n",
    "\n",
    "#     order_amount_day_label = 'order_amount_day_' + str(day)\n",
    "#     users_df[order_amount_day_label] = cost_order_amount_per_user_df['Amount']\n",
    "#     users_df[order_amount_day_label].fillna(0, inplace=True)\n",
    "    \n",
    "    cost_amout_per_partner_df = users_df.groupby('id_partner').agg({'cost_per_reg': 'mean'})\n",
    "    print(cost_amout_per_partner_df.head())\n",
    "#     cost_amout_per_channel_df['roi'] = 100 * (cost_amout_per_channel_df[order_amount_day_label] \n",
    "#         - cost_amout_per_channel_df['cost_per_reg'])/cost_amout_per_channel_df['cost_per_reg']\n",
    "#     return cost_amout_per_channel_df"
   ]
  },
  {
   "cell_type": "code",
   "execution_count": 254,
   "metadata": {},
   "outputs": [
    {
     "data": {
      "text/html": [
       "<div>\n",
       "<style>\n",
       "    .dataframe thead tr:only-child th {\n",
       "        text-align: right;\n",
       "    }\n",
       "\n",
       "    .dataframe thead th {\n",
       "        text-align: left;\n",
       "    }\n",
       "\n",
       "    .dataframe tbody tr th {\n",
       "        vertical-align: top;\n",
       "    }\n",
       "</style>\n",
       "<table border=\"1\" class=\"dataframe\">\n",
       "  <thead>\n",
       "    <tr style=\"text-align: right;\">\n",
       "      <th></th>\n",
       "      <th>Reg_date</th>\n",
       "      <th>id_partner</th>\n",
       "      <th>name</th>\n",
       "      <th>chanel</th>\n",
       "      <th>id_user</th>\n",
       "      <th>Visit_date</th>\n",
       "    </tr>\n",
       "  </thead>\n",
       "  <tbody>\n",
       "    <tr>\n",
       "      <th>26902908</th>\n",
       "      <td>2017-10-04</td>\n",
       "      <td>rt_DBM</td>\n",
       "      <td>${INSERTION_ORDER_ID}</td>\n",
       "      <td>RT DBM</td>\n",
       "      <td>6745955</td>\n",
       "      <td>2017-10-04 03:27:02</td>\n",
       "    </tr>\n",
       "    <tr>\n",
       "      <th>8327163</th>\n",
       "      <td>2017-07-01</td>\n",
       "      <td>DBM</td>\n",
       "      <td>%24%7BINSERTION_ORDER_ID%7D</td>\n",
       "      <td>DBM</td>\n",
       "      <td>5159878</td>\n",
       "      <td>2017-07-01 10:40:57</td>\n",
       "    </tr>\n",
       "    <tr>\n",
       "      <th>8327165</th>\n",
       "      <td>2017-07-01</td>\n",
       "      <td>DBM</td>\n",
       "      <td>%24%7BINSERTION_ORDER_ID%7D</td>\n",
       "      <td>DBM</td>\n",
       "      <td>5159881</td>\n",
       "      <td>2017-07-04 05:56:17</td>\n",
       "    </tr>\n",
       "    <tr>\n",
       "      <th>8327166</th>\n",
       "      <td>2017-07-01</td>\n",
       "      <td>DBM</td>\n",
       "      <td>%24%7BINSERTION_ORDER_ID%7D</td>\n",
       "      <td>DBM</td>\n",
       "      <td>5159881</td>\n",
       "      <td>2017-07-04 10:48:26</td>\n",
       "    </tr>\n",
       "    <tr>\n",
       "      <th>8327167</th>\n",
       "      <td>2017-07-01</td>\n",
       "      <td>DBM</td>\n",
       "      <td>%24%7BINSERTION_ORDER_ID%7D</td>\n",
       "      <td>DBM</td>\n",
       "      <td>5159940</td>\n",
       "      <td>2017-07-01 10:46:08</td>\n",
       "    </tr>\n",
       "  </tbody>\n",
       "</table>\n",
       "</div>"
      ],
      "text/plain": [
       "           Reg_date id_partner                         name  chanel  id_user  \\\n",
       "26902908 2017-10-04     rt_DBM        ${INSERTION_ORDER_ID}  RT DBM  6745955   \n",
       "8327163  2017-07-01        DBM  %24%7BINSERTION_ORDER_ID%7D     DBM  5159878   \n",
       "8327165  2017-07-01        DBM  %24%7BINSERTION_ORDER_ID%7D     DBM  5159881   \n",
       "8327166  2017-07-01        DBM  %24%7BINSERTION_ORDER_ID%7D     DBM  5159881   \n",
       "8327167  2017-07-01        DBM  %24%7BINSERTION_ORDER_ID%7D     DBM  5159940   \n",
       "\n",
       "                  Visit_date  \n",
       "26902908 2017-10-04 03:27:02  \n",
       "8327163  2017-07-01 10:40:57  \n",
       "8327165  2017-07-04 05:56:17  \n",
       "8327166  2017-07-04 10:48:26  \n",
       "8327167  2017-07-01 10:46:08  "
      ]
     },
     "execution_count": 254,
     "metadata": {},
     "output_type": "execute_result"
    }
   ],
   "source": [
    "visits_users_df = visits_df.sort_values(by='Visit_date').drop_duplicates('Visit_date', keep='first')\n",
    "visits_users_df = users_df.merge(visits_df, how='left', right_on='id_user', left_index=True)\n",
    "pct_users_return_first_week(7, visits_users_df[:10], users_df)"
   ]
  },
  {
   "cell_type": "markdown",
   "metadata": {},
   "source": [
    "#### Determine that Reg_date is not accounted as the first record in the Visit_date"
   ]
  },
  {
   "cell_type": "code",
   "execution_count": 274,
   "metadata": {},
   "outputs": [
    {
     "data": {
      "text/plain": [
       "False    12833766\n",
       "True      1818405\n",
       "dtype: int64"
      ]
     },
     "execution_count": 274,
     "metadata": {},
     "output_type": "execute_result"
    }
   ],
   "source": [
    "(visits_users_df['Visit_date'].dt.normalize() == visits_users_df['Reg_date'].dt.normalize()).value_counts()"
   ]
  },
  {
   "cell_type": "code",
   "execution_count": null,
   "metadata": {},
   "outputs": [],
   "source": []
  },
  {
   "cell_type": "code",
   "execution_count": null,
   "metadata": {},
   "outputs": [],
   "source": []
  }
 ],
 "metadata": {
  "kernelspec": {
   "display_name": "Python 3",
   "language": "python",
   "name": "python3"
  },
  "language_info": {
   "codemirror_mode": {
    "name": "ipython",
    "version": 3
   },
   "file_extension": ".py",
   "mimetype": "text/x-python",
   "name": "python",
   "nbconvert_exporter": "python",
   "pygments_lexer": "ipython3",
   "version": "3.6.4"
  }
 },
 "nbformat": 4,
 "nbformat_minor": 2
}
