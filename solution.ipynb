{
 "cells": [
  {
   "cell_type": "code",
   "execution_count": 183,
   "metadata": {
    "collapsed": true
   },
   "outputs": [],
   "source": [
    "import numpy as np\n",
    "import pandas as pd\n",
    "import os\n",
    "import matplotlib.pyplot as plt\n",
    "%matplotlib inline"
   ]
  },
  {
   "cell_type": "markdown",
   "metadata": {
    "collapsed": true
   },
   "source": [
    "## Load data"
   ]
  },
  {
   "cell_type": "code",
   "execution_count": 184,
   "metadata": {},
   "outputs": [
    {
     "name": "stderr",
     "output_type": "stream",
     "text": [
      "C:\\Users\\myz\\AppData\\Local\\Continuum\\anaconda3\\envs\\idp3\\lib\\site-packages\\IPython\\core\\interactiveshell.py:2698: DtypeWarning: Columns (3) have mixed types. Specify dtype option on import or set low_memory=False.\n",
      "  interactivity=interactivity, compiler=compiler, result=result)\n",
      "C:\\Users\\myz\\AppData\\Local\\Continuum\\anaconda3\\envs\\idp3\\lib\\site-packages\\numpy\\lib\\arraysetops.py:463: FutureWarning: elementwise comparison failed; returning scalar instead, but in the future will perform elementwise comparison\n",
      "  mask |= (ar1 == a)\n"
     ]
    }
   ],
   "source": [
    "data_path = '.'\n",
    "costs_df = pd.read_csv(os.path.join(data_path, 'Costs.csv'), parse_dates=['date_created'], dayfirst=False)\n",
    "relations_df = pd.read_csv(os.path.join(data_path, 'Relations.csv'), usecols=['name', 'chanel', 'id_partner'])\n",
    "# relations_df.index = relations_df.index.map(str)\n",
    "users_df = pd.read_csv(os.path.join(data_path, 'Users.csv'), index_col=0, \n",
    "                       usecols=['id', 'Reg_date', 'name', 'id_partner'], parse_dates=['Reg_date'], dayfirst=False)\n",
    "visits_df = pd.read_csv(os.path.join(data_path, 'Visits.csv'), parse_dates=['Visit_date'], dayfirst=False)\n",
    "orders_df = pd.read_csv(os.path.join(data_path, 'Orders.csv'), parse_dates=['Order Date'], dayfirst=False)"
   ]
  },
  {
   "cell_type": "markdown",
   "metadata": {
    "collapsed": true
   },
   "source": [
    "## Explore data"
   ]
  },
  {
   "cell_type": "code",
   "execution_count": 185,
   "metadata": {
    "collapsed": true
   },
   "outputs": [],
   "source": [
    "def explore_df(df):\n",
    "    print(df.head())\n",
    "    print(df.dtypes)\n",
    "    null_cols = df.columns[df.isnull().any()].values\n",
    "    if(len(null_cols)):\n",
    "        print('Columns with nulls: {}'.format(null_cols))\n",
    "    print()"
   ]
  },
  {
   "cell_type": "code",
   "execution_count": 186,
   "metadata": {},
   "outputs": [
    {
     "name": "stdout",
     "output_type": "stream",
     "text": [
      "       Costs id_partner campaign date_created\n",
      "0  15.701622        NaN  4147836   2018-01-05\n",
      "1  17.163542        NaN  4157838   2018-01-05\n",
      "2  17.408304        NaN  4164809   2018-01-05\n",
      "3   0.000000          0  2008634   2017-09-01\n",
      "4   0.000000          0  2008634   2017-09-02\n",
      "Costs                  float64\n",
      "id_partner              object\n",
      "campaign                object\n",
      "date_created    datetime64[ns]\n",
      "dtype: object\n",
      "Columns with nulls: ['id_partner' 'campaign']\n",
      "\n",
      "  chanel id_partner name\n",
      "0      7          7   19\n",
      "1      7          7   81\n",
      "2      7          7  108\n",
      "3      7          7  112\n",
      "4      7          7  131\n",
      "chanel        object\n",
      "id_partner    object\n",
      "name          object\n",
      "dtype: object\n",
      "\n",
      "          Reg_date id_partner                         name\n",
      "id                                                        \n",
      "6745955 2017-10-04     rt_DBM        ${INSERTION_ORDER_ID}\n",
      "5159878 2017-07-01        DBM  %24%7BINSERTION_ORDER_ID%7D\n",
      "5159881 2017-07-01        DBM  %24%7BINSERTION_ORDER_ID%7D\n",
      "5159940 2017-07-01        DBM  %24%7BINSERTION_ORDER_ID%7D\n",
      "5295496 2017-07-08        DBM  %24%7BINSERTION_ORDER_ID%7D\n",
      "Reg_date      datetime64[ns]\n",
      "id_partner            object\n",
      "name                  object\n",
      "dtype: object\n",
      "\n",
      "   id_user          Visit_date\n",
      "0  6362904 2017-09-15 10:55:42\n",
      "1  6362904 2017-09-18 07:35:11\n",
      "2  7145363 2017-11-05 19:37:53\n",
      "3  7270453 2017-11-15 17:06:20\n",
      "4  7270453 2017-11-15 17:12:46\n",
      "id_user                int64\n",
      "Visit_date    datetime64[ns]\n",
      "dtype: object\n",
      "\n",
      "   id_user          Order Date   Amount  Order ID\n",
      "0  4618612 2017-08-17 02:08:40   2.6312  23732390\n",
      "1  4618612 2017-08-17 02:29:26  17.5912  23732304\n",
      "2  4618645 2017-06-01 04:39:41   8.7912  12441805\n",
      "3  4618815 2017-06-01 02:11:01   2.6312  12439685\n",
      "4  4618982 2017-10-04 03:43:24   8.7912  25568622\n",
      "id_user                int64\n",
      "Order Date    datetime64[ns]\n",
      "Amount               float64\n",
      "Order ID               int64\n",
      "dtype: object\n",
      "\n"
     ]
    }
   ],
   "source": [
    "for df in [costs_df, relations_df, users_df, visits_df, orders_df]:\n",
    "    explore_df(df)"
   ]
  },
  {
   "cell_type": "markdown",
   "metadata": {},
   "source": [
    "## Задание №1:\t\n",
    "## С помощью инструментов R или Python посчитать следующие метрики:"
   ]
  },
  {
   "cell_type": "markdown",
   "metadata": {},
   "source": [
    "### ROI для 0-го, 6-го 14-го и 30-го дней жизни пользователя на сайте в разрезе маркетинговых каналов (chanel из relations)."
   ]
  },
  {
   "cell_type": "markdown",
   "metadata": {},
   "source": [
    "#### Calculate marketing costs per day"
   ]
  },
  {
   "cell_type": "code",
   "execution_count": 187,
   "metadata": {},
   "outputs": [],
   "source": [
    "users_df = users_df.reset_index().merge(relations_df, on=['name', 'id_partner']).set_index('id')"
   ]
  },
  {
   "cell_type": "code",
   "execution_count": 188,
   "metadata": {
    "collapsed": true
   },
   "outputs": [],
   "source": [
    "costs_per_date = costs_df[['date_created','Costs']].groupby('date_created').agg(np.sum)['Costs']"
   ]
  },
  {
   "cell_type": "code",
   "execution_count": 189,
   "metadata": {
    "collapsed": true
   },
   "outputs": [],
   "source": [
    "num_users_per_date = users_df.groupby('Reg_date')['id_partner'].count()\n",
    "cost_per_user_per_date = costs_per_date[num_users_per_date.index] / num_users_per_date\n",
    "users_df['cost_per_reg'] = cost_per_user_per_date[users_df['Reg_date'].values].values"
   ]
  },
  {
   "cell_type": "code",
   "execution_count": 190,
   "metadata": {},
   "outputs": [
    {
     "data": {
      "text/html": [
       "<div>\n",
       "<style>\n",
       "    .dataframe thead tr:only-child th {\n",
       "        text-align: right;\n",
       "    }\n",
       "\n",
       "    .dataframe thead th {\n",
       "        text-align: left;\n",
       "    }\n",
       "\n",
       "    .dataframe tbody tr th {\n",
       "        vertical-align: top;\n",
       "    }\n",
       "</style>\n",
       "<table border=\"1\" class=\"dataframe\">\n",
       "  <thead>\n",
       "    <tr style=\"text-align: right;\">\n",
       "      <th></th>\n",
       "      <th>id_user</th>\n",
       "      <th>Order Date</th>\n",
       "      <th>Amount</th>\n",
       "      <th>Order ID</th>\n",
       "      <th>Reg_date</th>\n",
       "      <th>id_partner</th>\n",
       "      <th>name</th>\n",
       "      <th>chanel</th>\n",
       "      <th>cost_per_reg</th>\n",
       "    </tr>\n",
       "  </thead>\n",
       "  <tbody>\n",
       "    <tr>\n",
       "      <th>0</th>\n",
       "      <td>4618612</td>\n",
       "      <td>2017-08-17 02:08:40</td>\n",
       "      <td>2.6312</td>\n",
       "      <td>23732390</td>\n",
       "      <td>2017-06-01</td>\n",
       "      <td>DBM_mob</td>\n",
       "      <td>3260707</td>\n",
       "      <td>DBM_mob</td>\n",
       "      <td>6.035521</td>\n",
       "    </tr>\n",
       "    <tr>\n",
       "      <th>1</th>\n",
       "      <td>4618612</td>\n",
       "      <td>2017-08-17 02:29:26</td>\n",
       "      <td>17.5912</td>\n",
       "      <td>23732304</td>\n",
       "      <td>2017-06-01</td>\n",
       "      <td>DBM_mob</td>\n",
       "      <td>3260707</td>\n",
       "      <td>DBM_mob</td>\n",
       "      <td>6.035521</td>\n",
       "    </tr>\n",
       "    <tr>\n",
       "      <th>2</th>\n",
       "      <td>4618645</td>\n",
       "      <td>2017-06-01 04:39:41</td>\n",
       "      <td>8.7912</td>\n",
       "      <td>12441805</td>\n",
       "      <td>2017-06-01</td>\n",
       "      <td>vh_s</td>\n",
       "      <td>Adw_VH_Tier2_S_Key_Brides_Old</td>\n",
       "      <td>VH Search Desktop tier2</td>\n",
       "      <td>6.035521</td>\n",
       "    </tr>\n",
       "    <tr>\n",
       "      <th>3</th>\n",
       "      <td>4618815</td>\n",
       "      <td>2017-06-01 02:11:01</td>\n",
       "      <td>2.6312</td>\n",
       "      <td>12439685</td>\n",
       "      <td>2017-06-01</td>\n",
       "      <td>1020</td>\n",
       "      <td>l6507</td>\n",
       "      <td>LosPollos</td>\n",
       "      <td>6.035521</td>\n",
       "    </tr>\n",
       "    <tr>\n",
       "      <th>4</th>\n",
       "      <td>4618982</td>\n",
       "      <td>2017-10-04 03:43:24</td>\n",
       "      <td>8.7912</td>\n",
       "      <td>25568622</td>\n",
       "      <td>2017-06-01</td>\n",
       "      <td>vh_uu</td>\n",
       "      <td>Adw_VH_GSP_Similar</td>\n",
       "      <td>VH Desktop GSP USA</td>\n",
       "      <td>6.035521</td>\n",
       "    </tr>\n",
       "  </tbody>\n",
       "</table>\n",
       "</div>"
      ],
      "text/plain": [
       "   id_user          Order Date   Amount  Order ID   Reg_date id_partner  \\\n",
       "0  4618612 2017-08-17 02:08:40   2.6312  23732390 2017-06-01    DBM_mob   \n",
       "1  4618612 2017-08-17 02:29:26  17.5912  23732304 2017-06-01    DBM_mob   \n",
       "2  4618645 2017-06-01 04:39:41   8.7912  12441805 2017-06-01       vh_s   \n",
       "3  4618815 2017-06-01 02:11:01   2.6312  12439685 2017-06-01       1020   \n",
       "4  4618982 2017-10-04 03:43:24   8.7912  25568622 2017-06-01      vh_uu   \n",
       "\n",
       "                            name                   chanel  cost_per_reg  \n",
       "0                        3260707                  DBM_mob      6.035521  \n",
       "1                        3260707                  DBM_mob      6.035521  \n",
       "2  Adw_VH_Tier2_S_Key_Brides_Old  VH Search Desktop tier2      6.035521  \n",
       "3                          l6507                LosPollos      6.035521  \n",
       "4             Adw_VH_GSP_Similar       VH Desktop GSP USA      6.035521  "
      ]
     },
     "execution_count": 190,
     "metadata": {},
     "output_type": "execute_result"
    }
   ],
   "source": [
    "orders_user_reg_df = orders_df.merge(users_df, how='left', left_on='id_user', right_index=True)\n",
    "orders_user_reg_df.head()"
   ]
  },
  {
   "cell_type": "code",
   "execution_count": 214,
   "metadata": {},
   "outputs": [],
   "source": [
    "def roi_on_day(day, users_df, orders_user_reg_df):\n",
    "    users_ids = users_df[users_df['Reg_date']<np.max(users_df['Reg_date']) + np.timedelta64(-day - 1, 'D')].index\n",
    "    orders_for_roi_mask = orders_user_reg_df['Order Date'] < orders_user_reg_df['Reg_date'] + np.timedelta64(day + 1, 'D')\n",
    "    orders_for_roi_mask = orders_for_roi_mask & orders_user_reg_df['id_user'].isin(users_ids)\n",
    "    cost_order_amount_per_user_df = orders_user_reg_df[orders_for_roi_mask].groupby('id_user').agg(\n",
    "        {'Amount': 'sum'})\n",
    "\n",
    "    order_amount_day_label = 'order_amount_day_' + str(day)\n",
    "    users_df[order_amount_day_label] = cost_order_amount_per_user_df['Amount']\n",
    "    users_df[order_amount_day_label].fillna(0, inplace=True)\n",
    "    \n",
    "    cost_amout_per_channel_df = users_df.groupby('chanel').agg({'cost_per_reg': 'sum', order_amount_day_label: 'sum'})\n",
    "    cost_amout_per_channel_df['roi'] = 100 * (cost_amout_per_channel_df[order_amount_day_label] \n",
    "        - cost_amout_per_channel_df['cost_per_reg'])/cost_amout_per_channel_df['cost_per_reg']\n",
    "    return cost_amout_per_channel_df"
   ]
  },
  {
   "cell_type": "code",
   "execution_count": null,
   "metadata": {},
   "outputs": [],
   "source": []
  },
  {
   "cell_type": "code",
   "execution_count": 217,
   "metadata": {},
   "outputs": [
    {
     "data": {
      "text/plain": [
       "count    364.000000\n",
       "mean     -77.234316\n",
       "std       42.840748\n",
       "min     -100.000000\n",
       "25%     -100.000000\n",
       "50%      -93.926845\n",
       "75%      -74.337571\n",
       "max      228.303274\n",
       "Name: roi, dtype: float64"
      ]
     },
     "execution_count": 217,
     "metadata": {},
     "output_type": "execute_result"
    }
   ],
   "source": [
    "roi = roi_on_day(0, users_df, orders_user_reg_df)\n",
    "roi['roi_14'] = roi_on_day(14, users_df, orders_user_reg_df)['roi']\n",
    "# cost_amout_per_channel_df['roi'].hist()\n",
    "roi['roi_30'] = cost_amout_per_channel_df = roi_on_day(30, users_df, orders_user_reg_df)['roi']\n",
    "cost_amout_per_channel_df['roi'].describe()\n",
    "# np.max(cost_amout_per_channel_df['roi'])\n",
    "# print('ROI 14 day: {}'.format(order_amount_days_after_reg(14))   \n",
    "# print('ROI 30 day: {}'.format(order_amount_days_after_reg(30))            "
   ]
  },
  {
   "cell_type": "code",
   "execution_count": null,
   "metadata": {
    "collapsed": true
   },
   "outputs": [],
   "source": []
  }
 ],
 "metadata": {
  "kernelspec": {
   "display_name": "Python 3",
   "language": "python",
   "name": "python3"
  },
  "language_info": {
   "codemirror_mode": {
    "name": "ipython",
    "version": 3
   },
   "file_extension": ".py",
   "mimetype": "text/x-python",
   "name": "python",
   "nbconvert_exporter": "python",
   "pygments_lexer": "ipython3",
   "version": "3.6.4"
  }
 },
 "nbformat": 4,
 "nbformat_minor": 2
}
