{
 "cells": [
  {
   "cell_type": "code",
   "execution_count": 2,
   "metadata": {
    "collapsed": true
   },
   "outputs": [],
   "source": [
    "import numpy as np\n",
    "import pandas as pd\n",
    "import os\n",
    "import matplotlib.pyplot as plt\n",
    "from lib import load_data\n",
    "%matplotlib inline"
   ]
  },
  {
   "cell_type": "code",
   "execution_count": 4,
   "metadata": {},
   "outputs": [
    {
     "name": "stderr",
     "output_type": "stream",
     "text": [
      "C:\\Users\\myz\\AppData\\Local\\Continuum\\anaconda3\\envs\\idp3\\lib\\site-packages\\IPython\\core\\interactiveshell.py:2802: DtypeWarning: Columns (3) have mixed types. Specify dtype option on import or set low_memory=False.\n",
      "  if self.run_code(code, result):\n"
     ]
    }
   ],
   "source": [
    "users_df, costs_df, relations_df, visits_df, orders_df = load_data()"
   ]
  },
  {
   "cell_type": "code",
   "execution_count": 21,
   "metadata": {
    "collapsed": true
   },
   "outputs": [],
   "source": [
    "def explore_data(df):\n",
    "    print(df.head())\n",
    "    print(df.dtypes)\n",
    "    null_cols = df.columns[df.isnull().any()].values\n",
    "    if(len(null_cols)):\n",
    "        print('Columns with nulls: {}'.format(null_cols))"
   ]
  },
  {
   "cell_type": "markdown",
   "metadata": {},
   "source": [
    "### Users"
   ]
  },
  {
   "cell_type": "code",
   "execution_count": 29,
   "metadata": {},
   "outputs": [
    {
     "name": "stdout",
     "output_type": "stream",
     "text": [
      "          Reg_date id_partner                         name\n",
      "id                                                        \n",
      "6745955 2017-10-04     rt_DBM        ${INSERTION_ORDER_ID}\n",
      "5159878 2017-07-01        DBM  %24%7BINSERTION_ORDER_ID%7D\n",
      "5159881 2017-07-01        DBM  %24%7BINSERTION_ORDER_ID%7D\n",
      "5159940 2017-07-01        DBM  %24%7BINSERTION_ORDER_ID%7D\n",
      "5295496 2017-07-08        DBM  %24%7BINSERTION_ORDER_ID%7D\n",
      "Reg_date      datetime64[ns]\n",
      "id_partner            object\n",
      "name                  object\n",
      "dtype: object\n"
     ]
    }
   ],
   "source": [
    "explore_data(users_df)"
   ]
  },
  {
   "cell_type": "markdown",
   "metadata": {},
   "source": [
    "### Orders"
   ]
  },
  {
   "cell_type": "code",
   "execution_count": 5,
   "metadata": {},
   "outputs": [
    {
     "name": "stdout",
     "output_type": "stream",
     "text": [
      "   id_user          Order Date   Amount  Order ID\n",
      "0  4618612 2017-08-17 02:08:40   2.6312  23732390\n",
      "1  4618612 2017-08-17 02:29:26  17.5912  23732304\n",
      "2  4618645 2017-06-01 04:39:41   8.7912  12441805\n",
      "3  4618815 2017-06-01 02:11:01   2.6312  12439685\n",
      "4  4618982 2017-10-04 03:43:24   8.7912  25568622\n",
      "id_user                int64\n",
      "Order Date    datetime64[ns]\n",
      "Amount               float64\n",
      "Order ID               int64\n",
      "dtype: object\n"
     ]
    }
   ],
   "source": [
    "explore_data(orders_df)"
   ]
  },
  {
   "cell_type": "markdown",
   "metadata": {},
   "source": [
    "### Relations"
   ]
  },
  {
   "cell_type": "code",
   "execution_count": 6,
   "metadata": {},
   "outputs": [
    {
     "name": "stdout",
     "output_type": "stream",
     "text": [
      "  chanel id_partner name\n",
      "0      7          7   19\n",
      "1      7          7   81\n",
      "2      7          7  108\n",
      "3      7          7  112\n",
      "4      7          7  131\n",
      "chanel        object\n",
      "id_partner    object\n",
      "name          object\n",
      "dtype: object\n"
     ]
    }
   ],
   "source": [
    "explore_data(relations_df)"
   ]
  },
  {
   "cell_type": "markdown",
   "metadata": {},
   "source": [
    "### Visits"
   ]
  },
  {
   "cell_type": "code",
   "execution_count": 7,
   "metadata": {},
   "outputs": [
    {
     "name": "stdout",
     "output_type": "stream",
     "text": [
      "   id_user          Visit_date\n",
      "0  6362904 2017-09-15 10:55:42\n",
      "1  6362904 2017-09-18 07:35:11\n",
      "2  7145363 2017-11-05 19:37:53\n",
      "3  7270453 2017-11-15 17:06:20\n",
      "4  7270453 2017-11-15 17:12:46\n",
      "id_user                int64\n",
      "Visit_date    datetime64[ns]\n",
      "dtype: object\n"
     ]
    }
   ],
   "source": [
    "explore_data(visits_df)"
   ]
  },
  {
   "cell_type": "markdown",
   "metadata": {},
   "source": [
    "### Costs"
   ]
  },
  {
   "cell_type": "code",
   "execution_count": 8,
   "metadata": {},
   "outputs": [
    {
     "name": "stdout",
     "output_type": "stream",
     "text": [
      "       Costs id_partner campaign date_created\n",
      "0  15.701622        NaN  4147836   2018-01-05\n",
      "1  17.163542        NaN  4157838   2018-01-05\n",
      "2  17.408304        NaN  4164809   2018-01-05\n",
      "3   0.000000          0  2008634   2017-09-01\n",
      "4   0.000000          0  2008634   2017-09-02\n",
      "Costs                  float64\n",
      "id_partner              object\n",
      "campaign                object\n",
      "date_created    datetime64[ns]\n",
      "dtype: object\n",
      "Columns with nulls: ['id_partner' 'campaign']\n"
     ]
    }
   ],
   "source": [
    "explore_data(costs_df)"
   ]
  },
  {
   "cell_type": "markdown",
   "metadata": {},
   "source": [
    "### Explore missing data between tables"
   ]
  },
  {
   "cell_type": "markdown",
   "metadata": {},
   "source": [
    "There are quite a number of campaigns that are missing. Such records will be dropped during calculations "
   ]
  },
  {
   "cell_type": "code",
   "execution_count": 16,
   "metadata": {},
   "outputs": [
    {
     "name": "stdout",
     "output_type": "stream",
     "text": [
      "Number of unique campaign names in Users table: 10830\n",
      "Number of unique campaign names in Costs table: 6864\n",
      "Percentage of missing campaigns in Costs that are present in Users: 22.69%\n",
      "Percentage of missing campaigns in Users that are present in Costs: 19.77%\n"
     ]
    }
   ],
   "source": [
    "print('Number of unique campaign names in Users table: {}'.format(len(users_df['name'].unique())))\n",
    "print('Number of unique campaign names in Costs table: {}'.format(len(costs_df['campaign'].unique())))\n",
    "\n",
    "name_in_campaign = np.isin(users_df['name'].values.astype(np.str), costs_df['campaign'].values.astype(np.str))\n",
    "missing_costs_campaign_perc = 100*(~name_in_campaign).sum()/name_in_campaign.sum()\n",
    "print('Percentage of missing campaigns in Costs that are present in Users: {0:.2f}%'.format(missing_costs_campaign_perc))\n",
    "\n",
    "campaign_in_name = np.isin(costs_df['campaign'].values.astype(np.str), users_df['name'].values.astype(np.str))\n",
    "missing_costs_campaign_perc = 100*(~campaign_in_name).sum()/campaign_in_name.sum()\n",
    "print('Percentage of missing campaigns in Users that are present in Costs: {0:.2f}%'.format(missing_costs_campaign_perc))"
   ]
  },
  {
   "cell_type": "code",
   "execution_count": 18,
   "metadata": {},
   "outputs": [
    {
     "name": "stdout",
     "output_type": "stream",
     "text": [
      "Percentage of missing campaigns in Users that are present in Costs: 0.05%\n"
     ]
    }
   ],
   "source": [
    "relations_campaign_in_users = np.isin(relations_df['name'].values.astype(np.str), users_df['name'].values.astype(np.str))\n",
    "missing_costs_campaign_perc = 100*(~relations_campaign_in_users).sum()/relations_campaign_in_users.sum()\n",
    "print('Percentage of missing campaigns in Users that are present in Costs: {0:.2f}%'.format(missing_costs_campaign_perc))"
   ]
  },
  {
   "cell_type": "code",
   "execution_count": 15,
   "metadata": {},
   "outputs": [
    {
     "data": {
      "text/plain": [
       "19.770559083608177"
      ]
     },
     "execution_count": 15,
     "metadata": {},
     "output_type": "execute_result"
    }
   ],
   "source": [
    "missing_costs_campaign_perc"
   ]
  }
 ],
 "metadata": {
  "kernelspec": {
   "display_name": "Python 3",
   "language": "python",
   "name": "python3"
  },
  "language_info": {
   "codemirror_mode": {
    "name": "ipython",
    "version": 3
   },
   "file_extension": ".py",
   "mimetype": "text/x-python",
   "name": "python",
   "nbconvert_exporter": "python",
   "pygments_lexer": "ipython3",
   "version": "3.6.4"
  }
 },
 "nbformat": 4,
 "nbformat_minor": 2
}
