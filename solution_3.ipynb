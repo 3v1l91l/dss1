{
 "cells": [
  {
   "cell_type": "code",
   "execution_count": 4,
   "metadata": {
    "collapsed": true
   },
   "outputs": [],
   "source": [
    "import numpy as np\n",
    "import pandas as pd\n",
    "import os\n",
    "import matplotlib.pyplot as plt\n",
    "from lib import load_data\n",
    "%matplotlib inline"
   ]
  },
  {
   "cell_type": "code",
   "execution_count": 5,
   "metadata": {},
   "outputs": [
    {
     "name": "stderr",
     "output_type": "stream",
     "text": [
      "C:\\Users\\myz\\AppData\\Local\\Continuum\\anaconda3\\envs\\idp3\\lib\\site-packages\\IPython\\core\\interactiveshell.py:2802: DtypeWarning: Columns (3) have mixed types. Specify dtype option on import or set low_memory=False.\n",
      "  if self.run_code(code, result):\n",
      "C:\\Users\\myz\\AppData\\Local\\Continuum\\anaconda3\\envs\\idp3\\lib\\site-packages\\numpy\\lib\\arraysetops.py:463: FutureWarning: elementwise comparison failed; returning scalar instead, but in the future will perform elementwise comparison\n",
      "  mask |= (ar1 == a)\n"
     ]
    }
   ],
   "source": [
    "users_df, costs_df, relations_df, visits_df, orders_df = load_data()"
   ]
  },
  {
   "cell_type": "code",
   "execution_count": 6,
   "metadata": {
    "collapsed": true
   },
   "outputs": [],
   "source": [
    "users_df = users_df.reset_index().merge(relations_df, on=['name', 'id_partner']).set_index('id')\n",
    "visits_users_df = visits_df.merge(users_df, how='left', left_on='id_user', right_index=True)"
   ]
  },
  {
   "cell_type": "code",
   "execution_count": 7,
   "metadata": {},
   "outputs": [
    {
     "name": "stdout",
     "output_type": "stream",
     "text": [
      "id_user\n",
      "4618707     5\n",
      "4619076    17\n",
      "4619229    11\n",
      "4619368     4\n",
      "4619458     2\n",
      "dtype: int64\n",
      "id_user\n",
      "4618707    7\n",
      "4618807    2\n",
      "4618837    2\n",
      "4618940    1\n",
      "4619076    8\n",
      "dtype: int64\n",
      "id_user\n",
      "4618707     7\n",
      "4618837    15\n",
      "4619076     5\n",
      "4619132     3\n",
      "4619140     1\n",
      "dtype: int64\n",
      "id_user\n",
      "4618613     2\n",
      "4618685     1\n",
      "4618707    10\n",
      "4618837     7\n",
      "4619076     3\n",
      "dtype: int64\n"
     ]
    }
   ],
   "source": [
    "cur_date = np.datetime64('2018-01-20')\n",
    "date_month_ago = cur_date + np.timedelta64(-4, 'W')\n",
    "start_week_dates = date_month_ago + np.arange(0, 4) * np.timedelta64(1, 'W')\n",
    "email_weekly_workload = pd.DataFrame({'chanel': relations_df['chanel'].unique()})\n",
    "for start_week_date in start_week_dates:\n",
    "    start_prev_week_date = start_week_date + np.timedelta64(-1, 'W')\n",
    "    visits_mask = (visits_users_df['Visit_date'] > start_prev_week_date) & (visits_users_df['Visit_date'] < start_week_date)\n",
    "    zz = visits_users_df[visits_mask].groupby(['id_user']).size()\n",
    "    print(zz.head())"
   ]
  }
 ],
 "metadata": {
  "kernelspec": {
   "display_name": "Python 3",
   "language": "python",
   "name": "python3"
  },
  "language_info": {
   "codemirror_mode": {
    "name": "ipython",
    "version": 3
   },
   "file_extension": ".py",
   "mimetype": "text/x-python",
   "name": "python",
   "nbconvert_exporter": "python",
   "pygments_lexer": "ipython3",
   "version": "3.6.4"
  }
 },
 "nbformat": 4,
 "nbformat_minor": 2
}
